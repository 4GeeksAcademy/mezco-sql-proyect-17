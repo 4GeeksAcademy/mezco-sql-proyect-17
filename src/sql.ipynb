{
 "cells": [
  {
   "cell_type": "markdown",
   "id": "f999cbe0",
   "metadata": {},
   "source": [
    "📦**¿Qué es una tabla?**\n",
    "Las bases de datos están formadas por tablas, que son como hojas de cálculo de Excel:\n",
    "\n",
    "| id | nombre   | país      |\n",
    "| -- | -------- | --------- |\n",
    "| 1  | Victoria | Australia |\n",
    "| 2  | Neuquén  | Argentina |\n",
    "\n",
    "\n",
    "Esta tabla podría llamarse regions. Cada fila es una entrada (una región) y cada columna es una característica (el nombre, el país, etc.)."
   ]
  },
  {
   "cell_type": "markdown",
   "id": "e8770df4",
   "metadata": {},
   "source": [
    "### Orden de los comandos en SQL\n",
    "\n",
    "\n",
    "SELECT ...  \n",
    "FROM ...  \n",
    "[JOIN ... ON ...]  \n",
    "[WHERE ...]  \n",
    "GROUP BY ...  \n",
    "HAVING ...  \n",
    "ORDER BY ...  \n"
   ]
  },
  {
   "cell_type": "markdown",
   "id": "d61adfd2",
   "metadata": {},
   "source": [
    "| **Tipo de Query**        | **Palabra clave**         | **¿Qué hace?**                                                                | **Ejemplo**                                                                       | **Notas importantes**                                               |\n",
    "|--------------------------|---------------------------|--------------------------------------------------------------------------------|------------------------------------------------------------------------------------|----------------------------------------------------------------------|\n",
    "| **Seleccionar columnas** | `SELECT ... FROM`         | Muestra columnas específicas de una tabla.                                    | `SELECT name, country FROM regions;`                                              | Puedes usar `*` para seleccionar todas las columnas.                |\n",
    "| **Quitar duplicados**    | `SELECT DISTINCT ...`     | Muestra solo valores únicos (sin duplicados).                                 | `SELECT DISTINCT country FROM regions;`                                           | Útil para ver qué valores únicos existen.                           |\n",
    "| **Filtrar filas**        | `WHERE`                   | Filtra filas que cumplan cierta condición.                                    | `SELECT * FROM regions WHERE country = 'Argentina';`                              | Comillas simples para texto, operadores como `=`, `<`, `>`, `LIKE`. |\n",
    "| **Ordenar resultados**   | `ORDER BY`                | Ordena las filas por una o varias columnas.                                   | `SELECT * FROM species ORDER BY genus ASC;`                                       | Usa `DESC` para orden descendente.                                  |\n",
    "| **Contar filas**         | `COUNT(*)`, `COUNT(col)`  | Devuelve el número de filas o de valores no nulos.                            | `SELECT COUNT(*) FROM regions;`                                                   | `COUNT(DISTINCT col)` cuenta valores únicos.                        |\n",
    "| **Calcular máximo**      | `MAX(col)`                | Devuelve el valor máximo de una columna numérica.                             | `SELECT MAX(latitude) FROM observations;`                                         | También existen `MIN()`, `AVG()`, `SUM()`.                          |\n",
    "| **Agrupar filas**        | `GROUP BY`                | Agrupa filas con un mismo valor y permite usar funciones como `COUNT`, `SUM`. | `SELECT country, COUNT(*) FROM regions GROUP BY country;`                         | Solo puedes mostrar columnas que estén en `GROUP BY` o agregadas.   |\n",
    "| **Filtrar grupos**       | `HAVING`                  | Filtra después del `GROUP BY` (como un `WHERE` para grupos).                  | `SELECT country, COUNT(*) FROM regions GROUP BY country HAVING COUNT(*) > 2;`     | `HAVING` va después de `GROUP BY`.                                  |\n",
    "| **Limitar resultados**   | `LIMIT`                   | Devuelve solo las primeras N filas.                                           | `SELECT * FROM observations LIMIT 10;`                                            | Se usa con `ORDER BY` para obtener \"los más\" o \"los primeros\".      |\n",
    "| **Unir tablas**          | `JOIN ... ON`             | Une dos tablas que tienen campos relacionados.                                | `SELECT * FROM observations JOIN regions ON observations.region_id = regions.id;` | Puedes usar alias (`o`, `r`) para acortar nombres.                  |\n",
    "| **Contar únicos**        | `COUNT(DISTINCT col)`     | Cuenta cuántos valores diferentes hay.                                        | `SELECT COUNT(DISTINCT country) FROM regions;`                                    | Muy útil para ver variedad.                                         |\n",
    "| **Concatenar texto**     | `||` (SQLite)             | Junta textos en una sola cadena.                                              | `SELECT species_id || '-' || region_id FROM observations;`                        | En MySQL se usa `CONCAT(col1, col2)`.                               |\n",
    "| **Subconsultas**         | `(SELECT ...)`            | Consulta dentro de otra.                                                      | `SELECT * FROM (SELECT ... ) AS sub;`                                             | Muy potente para búsquedas más complejas.                           |\n"
   ]
  },
  {
   "cell_type": "markdown",
   "id": "7628d434",
   "metadata": {},
   "source": [
    "### 🧠 Guía Interactiva: Queries SQL Básicas 🐣\n",
    "\n",
    "| 🧩 Tipo de Consulta       | 🏷️ Palabra clave         | 📚 ¿Qué hace?                                                   | 🧪 Ejemplo                                                                | 💡 Tip o Truco                                                  |\n",
    "|---------------------------|---------------------------|------------------------------------------------------------------|---------------------------------------------------------------------------|------------------------------------------------------------------|\n",
    "| 🔍 Seleccionar columnas   | `SELECT ... FROM`         | Muestra columnas específicas de una tabla                        | `SELECT name, country FROM regions;`                                     | Usa `*` si quieres ver todas las columnas                       |\n",
    "| 🎯 Quitar duplicados      | `SELECT DISTINCT ...`     | Muestra solo valores únicos (sin repeticiones)                   | `SELECT DISTINCT country FROM regions;`                                  | Perfecto para listas limpias sin repes                         |\n",
    "| 🧹 Filtrar filas          | `WHERE`                   | Elige solo las filas que cumplan una condición                   | `SELECT * FROM regions WHERE country = 'Argentina';`                     | Usa `=`, `LIKE`, `<`, `>` según el tipo de filtro              |\n",
    "| 🔢 Ordenar resultados     | `ORDER BY`                | Ordena las filas por una o más columnas                         | `SELECT * FROM species ORDER BY genus ASC;`                              | Usa `DESC` si quieres orden descendente                        |\n",
    "| 🧮 Contar cosas           | `COUNT(*)` o `COUNT(col)` | Cuenta filas (o valores no nulos si usas `col`)                 | `SELECT COUNT(*) FROM regions;`                                          | Combínalo con `DISTINCT` para contar únicos                   |\n",
    "| 📈 Máximo / Mínimo        | `MAX()`, `MIN()`          | Devuelve el valor más alto o más bajo de una columna numérica   | `SELECT MAX(latitude) FROM observations;`                                | También puedes usar `AVG()` o `SUM()`                         |\n",
    "| 🧺 Agrupar filas          | `GROUP BY`                | Agrupa filas que comparten un valor y aplica funciones agregadas | `SELECT country, COUNT(*) FROM regions GROUP BY country;`                | Solo puedes mostrar columnas agregadas o agrupadas            |\n",
    "| 🔍 Filtrar grupos         | `HAVING`                  | Filtra después de agrupar, como un `WHERE` para grupos           | `SELECT country, COUNT(*) FROM regions GROUP BY country HAVING COUNT(*) > 2;` | `HAVING` siempre va después de `GROUP BY`              |\n",
    "| ✂️ Limitar resultados     | `LIMIT`                   | Muestra solo un número fijo de filas                            | `SELECT * FROM observations LIMIT 10;`                                   | Úsalo con `ORDER BY` para ver los top                           |\n",
    "| 🤝 Unir tablas            | `JOIN ... ON`             | Junta columnas de dos tablas que tengan relación entre sí       | `SELECT * FROM observations JOIN regions ON observations.region_id = regions.id;` | Usa alias como `o`, `r` para acortar                           |\n",
    "| 🧮 Contar únicos          | `COUNT(DISTINCT col)`     | Cuenta cuántos valores diferentes hay                          | `SELECT COUNT(DISTINCT country) FROM regions;`                           | Ideal para medir diversidad o variedad                        |\n",
    "| 🧷 Concatenar texto       | `||` (SQLite)             | Une columnas en un mismo texto                                  | `SELECT species_id || '-' || region_id FROM observations;`               | En MySQL se usa `CONCAT(col1, col2)`                          |\n",
    "| 🌀 Subconsulta            | `(SELECT ...)`            | Consulta dentro de otra consulta                                | `SELECT * FROM (SELECT ... ) AS sub;`                                    | Para filtrar por máximos, unir resultados, etc.               |\n",
    "\n",
    "---\n",
    "\n",
    "### 🧠 Mini Quiz 🎲\n",
    "\n",
    "1. ❓ ¿Qué palabra usarías para eliminar duplicados en una columna como `country`?\n",
    "2. ❓ ¿Qué combinación usarías para saber cuál es el país con más regiones registradas?\n",
    "3. ❓ ¿Qué pasa si usas `HAVING` sin `GROUP BY`?\n",
    "\n",
    "✍️ ¡Responde abajo o prueba tus ideas directamente en tu código!\n",
    "\n",
    "---\n",
    "\n",
    "### 🐥 BONUS VISUAL\n",
    "\n",
    "```sql\n",
    "-- ¿Cuál es el país con más regiones registradas?\n",
    "SELECT country, COUNT(*) AS total\n",
    "FROM regions\n",
    "GROUP BY country\n",
    "ORDER BY total DESC\n",
    "LIMIT 1;\n"
   ]
  }
 ],
 "metadata": {
  "language_info": {
   "name": "python"
  }
 },
 "nbformat": 4,
 "nbformat_minor": 5
}
